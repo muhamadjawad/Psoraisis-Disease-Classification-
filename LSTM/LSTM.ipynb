{
 "cells": [
  {
   "cell_type": "markdown",
   "metadata": {},
   "source": [
    "# Libraries"
   ]
  },
  {
   "cell_type": "code",
   "execution_count": 21,
   "metadata": {
    "id": "luhUqMZTY_nb"
   },
   "outputs": [],
   "source": [
    "from PIL import Image\n",
    "import os, sys\n",
    "# import splitfolders\n",
    "from os import listdir\n",
    "from os.path import isfile, join\n",
    "import cv2\n",
    "import skimage\n",
    "import numpy as np\n",
    "import glob\n",
    "import math\n",
    "import pandas as pd\n",
    "\n",
    "from keras.datasets import mnist\n",
    "from keras.models import Sequential\n",
    "from keras.layers import Dense, Dropout, Conv2D, MaxPool2D, Flatten\n",
    "from keras.utils import np_utils\n",
    "from keras.preprocessing.image import ImageDataGenerator, array_to_img, img_to_array, load_img\n",
    "from keras.utils import to_categorical \n",
    "from keras.optimizers import SGD,Adam,RMSprop\n",
    "from keras.models import load_model\n",
    "from keras.models import Sequential\n",
    "from keras.layers import Dense, LSTM\n",
    "from sklearn.metrics import confusion_matrix\n",
    "import sklearn.metrics as metrics\n",
    "\n",
    "import tensorflow as tf\n",
    "\n",
    "\n",
    "from matplotlib import pyplot as plt\n",
    "import seaborn as sns"
   ]
  },
  {
   "cell_type": "markdown",
   "metadata": {},
   "source": [
    "# LoadingNumpy Arrays"
   ]
  },
  {
   "cell_type": "code",
   "execution_count": 8,
   "metadata": {
    "id": "0YCCUBQEd4ZQ"
   },
   "outputs": [],
   "source": [
    "X_train_R=np.load('/content/X_train_R.npy')\n",
    "X_test_R=np.load('/content/X_test_R.npy')\n",
    "X_validation_R=np.load('/content/X_val_R.npy')\n",
    "\n",
    "Y_train_R=np.load('/content/Y_train_R.npy')\n",
    "Y_test_R=np.load('/content/Y_test_R.npy')\n",
    "Y_validation_R=np.load('/content/Y_val_R.npy')\n"
   ]
  },
  {
   "cell_type": "code",
   "execution_count": 4,
   "metadata": {
    "colab": {
     "base_uri": "https://localhost:8080/"
    },
    "id": "Gn4C4jm5d54o",
    "outputId": "40de451c-0d31-4bd9-c189-380eda34946e"
   },
   "outputs": [
    {
     "data": {
      "text/plain": [
       "(1459, 64, 64)"
      ]
     },
     "execution_count": 4,
     "metadata": {
      "tags": []
     },
     "output_type": "execute_result"
    }
   ],
   "source": [
    "X_train_R.shape"
   ]
  },
  {
   "cell_type": "markdown",
   "metadata": {},
   "source": [
    "# Creating LSTM Model"
   ]
  },
  {
   "cell_type": "code",
   "execution_count": 122,
   "metadata": {
    "colab": {
     "base_uri": "https://localhost:8080/"
    },
    "collapsed": true,
    "id": "q5NRvVd5eB_0",
    "outputId": "19438ea3-1727-4ea5-e41f-a7323edcf6e9"
   },
   "outputs": [
    {
     "name": "stdout",
     "output_type": "stream",
     "text": [
      "Epoch 1/200\n",
      "12/12 [==============================] - 6s 148ms/step - loss: 0.1548 - accuracy: 0.2496 - val_loss: 0.1246 - val_accuracy: 0.3222\n",
      "Epoch 2/200\n",
      "12/12 [==============================] - 0s 41ms/step - loss: 0.1233 - accuracy: 0.3208 - val_loss: 0.1184 - val_accuracy: 0.3722\n",
      "Epoch 3/200\n",
      "12/12 [==============================] - 0s 41ms/step - loss: 0.1207 - accuracy: 0.3747 - val_loss: 0.1167 - val_accuracy: 0.3833\n",
      "Epoch 4/200\n",
      "12/12 [==============================] - 0s 41ms/step - loss: 0.1173 - accuracy: 0.3777 - val_loss: 0.1109 - val_accuracy: 0.4389\n",
      "Epoch 5/200\n",
      "12/12 [==============================] - 0s 41ms/step - loss: 0.1136 - accuracy: 0.4075 - val_loss: 0.1150 - val_accuracy: 0.4056\n",
      "Epoch 6/200\n",
      "12/12 [==============================] - 0s 42ms/step - loss: 0.1109 - accuracy: 0.4401 - val_loss: 0.1103 - val_accuracy: 0.4222\n",
      "Epoch 7/200\n",
      "12/12 [==============================] - 0s 41ms/step - loss: 0.1112 - accuracy: 0.4335 - val_loss: 0.1066 - val_accuracy: 0.4722\n",
      "Epoch 8/200\n",
      "12/12 [==============================] - 0s 42ms/step - loss: 0.1100 - accuracy: 0.4449 - val_loss: 0.1097 - val_accuracy: 0.4000\n",
      "Epoch 9/200\n",
      "12/12 [==============================] - 0s 41ms/step - loss: 0.1105 - accuracy: 0.4456 - val_loss: 0.1074 - val_accuracy: 0.4500\n",
      "Epoch 10/200\n",
      "12/12 [==============================] - 0s 42ms/step - loss: 0.1083 - accuracy: 0.4588 - val_loss: 0.1198 - val_accuracy: 0.4056\n",
      "Epoch 11/200\n",
      "12/12 [==============================] - 0s 42ms/step - loss: 0.1161 - accuracy: 0.4159 - val_loss: 0.1105 - val_accuracy: 0.4278\n",
      "Epoch 12/200\n",
      "12/12 [==============================] - 0s 42ms/step - loss: 0.1105 - accuracy: 0.4561 - val_loss: 0.1099 - val_accuracy: 0.4444\n",
      "Epoch 13/200\n",
      "12/12 [==============================] - 0s 41ms/step - loss: 0.1103 - accuracy: 0.4448 - val_loss: 0.1032 - val_accuracy: 0.4667\n",
      "Epoch 14/200\n",
      "12/12 [==============================] - 0s 41ms/step - loss: 0.1043 - accuracy: 0.4847 - val_loss: 0.1034 - val_accuracy: 0.4833\n",
      "Epoch 15/200\n",
      "12/12 [==============================] - 0s 42ms/step - loss: 0.1046 - accuracy: 0.4951 - val_loss: 0.1048 - val_accuracy: 0.5000\n",
      "Epoch 16/200\n",
      "12/12 [==============================] - 0s 41ms/step - loss: 0.1049 - accuracy: 0.4735 - val_loss: 0.1019 - val_accuracy: 0.5056\n",
      "Epoch 17/200\n",
      "12/12 [==============================] - 0s 42ms/step - loss: 0.1054 - accuracy: 0.4876 - val_loss: 0.1097 - val_accuracy: 0.4278\n",
      "Epoch 18/200\n",
      "12/12 [==============================] - 0s 42ms/step - loss: 0.1084 - accuracy: 0.4691 - val_loss: 0.1050 - val_accuracy: 0.4833\n",
      "Epoch 19/200\n",
      "12/12 [==============================] - 0s 41ms/step - loss: 0.1040 - accuracy: 0.5041 - val_loss: 0.1043 - val_accuracy: 0.5111\n",
      "Epoch 20/200\n",
      "12/12 [==============================] - 0s 42ms/step - loss: 0.1006 - accuracy: 0.5057 - val_loss: 0.1005 - val_accuracy: 0.5000\n",
      "Epoch 21/200\n",
      "12/12 [==============================] - 0s 41ms/step - loss: 0.0989 - accuracy: 0.5098 - val_loss: 0.0972 - val_accuracy: 0.5167\n",
      "Epoch 22/200\n",
      "12/12 [==============================] - 0s 42ms/step - loss: 0.0960 - accuracy: 0.5613 - val_loss: 0.1056 - val_accuracy: 0.4722\n",
      "Epoch 23/200\n",
      "12/12 [==============================] - 0s 42ms/step - loss: 0.1004 - accuracy: 0.5228 - val_loss: 0.1005 - val_accuracy: 0.4889\n",
      "Epoch 24/200\n",
      "12/12 [==============================] - 0s 42ms/step - loss: 0.0960 - accuracy: 0.5510 - val_loss: 0.1029 - val_accuracy: 0.4611\n",
      "Epoch 25/200\n",
      "12/12 [==============================] - 0s 42ms/step - loss: 0.0986 - accuracy: 0.5395 - val_loss: 0.1005 - val_accuracy: 0.4667\n",
      "Epoch 26/200\n",
      "12/12 [==============================] - 0s 42ms/step - loss: 0.0905 - accuracy: 0.5702 - val_loss: 0.0924 - val_accuracy: 0.5333\n",
      "Epoch 27/200\n",
      "12/12 [==============================] - 0s 42ms/step - loss: 0.0899 - accuracy: 0.5666 - val_loss: 0.0965 - val_accuracy: 0.5333\n",
      "Epoch 28/200\n",
      "12/12 [==============================] - 0s 41ms/step - loss: 0.0891 - accuracy: 0.5863 - val_loss: 0.1018 - val_accuracy: 0.4944\n",
      "Epoch 29/200\n",
      "12/12 [==============================] - 0s 42ms/step - loss: 0.0928 - accuracy: 0.5686 - val_loss: 0.0943 - val_accuracy: 0.5278\n",
      "Epoch 30/200\n",
      "12/12 [==============================] - 0s 42ms/step - loss: 0.0860 - accuracy: 0.6067 - val_loss: 0.1005 - val_accuracy: 0.4722\n",
      "Epoch 31/200\n",
      "12/12 [==============================] - 0s 42ms/step - loss: 0.0885 - accuracy: 0.6023 - val_loss: 0.0901 - val_accuracy: 0.5778\n",
      "Epoch 32/200\n",
      "12/12 [==============================] - 0s 42ms/step - loss: 0.0860 - accuracy: 0.6048 - val_loss: 0.0987 - val_accuracy: 0.5667\n",
      "Epoch 33/200\n",
      "12/12 [==============================] - 0s 42ms/step - loss: 0.0809 - accuracy: 0.6437 - val_loss: 0.0956 - val_accuracy: 0.5222\n",
      "Epoch 34/200\n",
      "12/12 [==============================] - 0s 42ms/step - loss: 0.0828 - accuracy: 0.6248 - val_loss: 0.0960 - val_accuracy: 0.5556\n",
      "Epoch 35/200\n",
      "12/12 [==============================] - 0s 42ms/step - loss: 0.0870 - accuracy: 0.6029 - val_loss: 0.0973 - val_accuracy: 0.4944\n",
      "Epoch 36/200\n",
      "12/12 [==============================] - 1s 43ms/step - loss: 0.0882 - accuracy: 0.5842 - val_loss: 0.0948 - val_accuracy: 0.5444\n",
      "Epoch 37/200\n",
      "12/12 [==============================] - 0s 41ms/step - loss: 0.0817 - accuracy: 0.6288 - val_loss: 0.0920 - val_accuracy: 0.6056\n",
      "Epoch 38/200\n",
      "12/12 [==============================] - 0s 42ms/step - loss: 0.0853 - accuracy: 0.6250 - val_loss: 0.1042 - val_accuracy: 0.5278\n",
      "Epoch 39/200\n",
      "12/12 [==============================] - 0s 42ms/step - loss: 0.0852 - accuracy: 0.6291 - val_loss: 0.0968 - val_accuracy: 0.5556\n",
      "Epoch 40/200\n",
      "12/12 [==============================] - 0s 42ms/step - loss: 0.0879 - accuracy: 0.5912 - val_loss: 0.0997 - val_accuracy: 0.5444\n",
      "Epoch 41/200\n",
      "12/12 [==============================] - 1s 42ms/step - loss: 0.0831 - accuracy: 0.6260 - val_loss: 0.0958 - val_accuracy: 0.5444\n",
      "Epoch 42/200\n",
      "12/12 [==============================] - 1s 43ms/step - loss: 0.0854 - accuracy: 0.6333 - val_loss: 0.0904 - val_accuracy: 0.5833\n",
      "Epoch 43/200\n",
      "12/12 [==============================] - 0s 42ms/step - loss: 0.0803 - accuracy: 0.6573 - val_loss: 0.0857 - val_accuracy: 0.6167\n",
      "Epoch 44/200\n",
      "12/12 [==============================] - 1s 43ms/step - loss: 0.0782 - accuracy: 0.6793 - val_loss: 0.0854 - val_accuracy: 0.6222\n",
      "Epoch 45/200\n",
      "12/12 [==============================] - 0s 42ms/step - loss: 0.0756 - accuracy: 0.6708 - val_loss: 0.0894 - val_accuracy: 0.6000\n",
      "Epoch 46/200\n",
      "12/12 [==============================] - 1s 43ms/step - loss: 0.0749 - accuracy: 0.6848 - val_loss: 0.0941 - val_accuracy: 0.5556\n",
      "Epoch 47/200\n",
      "12/12 [==============================] - 0s 42ms/step - loss: 0.0711 - accuracy: 0.7094 - val_loss: 0.0938 - val_accuracy: 0.6167\n",
      "Epoch 48/200\n",
      "12/12 [==============================] - 1s 43ms/step - loss: 0.0677 - accuracy: 0.7308 - val_loss: 0.0895 - val_accuracy: 0.6222\n",
      "Epoch 49/200\n",
      "12/12 [==============================] - 0s 42ms/step - loss: 0.0632 - accuracy: 0.7349 - val_loss: 0.0800 - val_accuracy: 0.6611\n",
      "Epoch 50/200\n",
      "12/12 [==============================] - 1s 43ms/step - loss: 0.0587 - accuracy: 0.7758 - val_loss: 0.0936 - val_accuracy: 0.6111\n",
      "Epoch 51/200\n",
      "12/12 [==============================] - 0s 42ms/step - loss: 0.0695 - accuracy: 0.7182 - val_loss: 0.0929 - val_accuracy: 0.6167\n",
      "Epoch 52/200\n",
      "12/12 [==============================] - 1s 43ms/step - loss: 0.0652 - accuracy: 0.7324 - val_loss: 0.0841 - val_accuracy: 0.6278\n",
      "Epoch 53/200\n",
      "12/12 [==============================] - 1s 43ms/step - loss: 0.0610 - accuracy: 0.7582 - val_loss: 0.0919 - val_accuracy: 0.5944\n",
      "Epoch 54/200\n",
      "12/12 [==============================] - 1s 43ms/step - loss: 0.0603 - accuracy: 0.7447 - val_loss: 0.0933 - val_accuracy: 0.5611\n",
      "Epoch 55/200\n",
      "12/12 [==============================] - 1s 43ms/step - loss: 0.0626 - accuracy: 0.7426 - val_loss: 0.0905 - val_accuracy: 0.6278\n",
      "Epoch 56/200\n",
      "12/12 [==============================] - 1s 43ms/step - loss: 0.0548 - accuracy: 0.7967 - val_loss: 0.0812 - val_accuracy: 0.6833\n",
      "Epoch 57/200\n",
      "12/12 [==============================] - 0s 42ms/step - loss: 0.0517 - accuracy: 0.7990 - val_loss: 0.0898 - val_accuracy: 0.6000\n",
      "Epoch 58/200\n",
      "12/12 [==============================] - 1s 43ms/step - loss: 0.0529 - accuracy: 0.7911 - val_loss: 0.0891 - val_accuracy: 0.6333\n",
      "Epoch 59/200\n",
      "12/12 [==============================] - 1s 43ms/step - loss: 0.0477 - accuracy: 0.8243 - val_loss: 0.0834 - val_accuracy: 0.6500\n",
      "Epoch 60/200\n",
      "12/12 [==============================] - 1s 43ms/step - loss: 0.0454 - accuracy: 0.8267 - val_loss: 0.0868 - val_accuracy: 0.6611\n",
      "Epoch 61/200\n",
      "12/12 [==============================] - 1s 43ms/step - loss: 0.0441 - accuracy: 0.8354 - val_loss: 0.0826 - val_accuracy: 0.6500\n",
      "Epoch 62/200\n",
      "12/12 [==============================] - 1s 44ms/step - loss: 0.0413 - accuracy: 0.8488 - val_loss: 0.0880 - val_accuracy: 0.6611\n",
      "Epoch 63/200\n",
      "12/12 [==============================] - 1s 43ms/step - loss: 0.0435 - accuracy: 0.8384 - val_loss: 0.0907 - val_accuracy: 0.6056\n",
      "Epoch 64/200\n",
      "12/12 [==============================] - 1s 43ms/step - loss: 0.0420 - accuracy: 0.8420 - val_loss: 0.0878 - val_accuracy: 0.6333\n",
      "Epoch 65/200\n",
      "12/12 [==============================] - 1s 43ms/step - loss: 0.0380 - accuracy: 0.8708 - val_loss: 0.0744 - val_accuracy: 0.6944\n",
      "Epoch 66/200\n",
      "12/12 [==============================] - 1s 43ms/step - loss: 0.0310 - accuracy: 0.8935 - val_loss: 0.0871 - val_accuracy: 0.6611\n",
      "Epoch 67/200\n",
      "12/12 [==============================] - 1s 43ms/step - loss: 0.0300 - accuracy: 0.8996 - val_loss: 0.0923 - val_accuracy: 0.6667\n",
      "Epoch 68/200\n",
      "12/12 [==============================] - 1s 43ms/step - loss: 0.0358 - accuracy: 0.8622 - val_loss: 0.0857 - val_accuracy: 0.6556\n",
      "Epoch 69/200\n",
      "12/12 [==============================] - 1s 43ms/step - loss: 0.0358 - accuracy: 0.8792 - val_loss: 0.0889 - val_accuracy: 0.6611\n",
      "Epoch 70/200\n",
      "12/12 [==============================] - 1s 44ms/step - loss: 0.0329 - accuracy: 0.8890 - val_loss: 0.0899 - val_accuracy: 0.6500\n",
      "Epoch 71/200\n",
      "12/12 [==============================] - 1s 43ms/step - loss: 0.0339 - accuracy: 0.8968 - val_loss: 0.0784 - val_accuracy: 0.7000\n",
      "Epoch 72/200\n",
      "12/12 [==============================] - 3s 225ms/step - loss: 0.0320 - accuracy: 0.8925 - val_loss: 0.0954 - val_accuracy: 0.6500\n",
      "Epoch 73/200\n",
      "12/12 [==============================] - 1s 49ms/step - loss: 0.0340 - accuracy: 0.8844 - val_loss: 0.0827 - val_accuracy: 0.6778\n",
      "Epoch 74/200\n",
      "12/12 [==============================] - 1s 44ms/step - loss: 0.0334 - accuracy: 0.8915 - val_loss: 0.0829 - val_accuracy: 0.6611\n",
      "Epoch 75/200\n",
      "12/12 [==============================] - 1s 43ms/step - loss: 0.0379 - accuracy: 0.8587 - val_loss: 0.0790 - val_accuracy: 0.6667\n",
      "Epoch 76/200\n",
      "12/12 [==============================] - 1s 44ms/step - loss: 0.0274 - accuracy: 0.9115 - val_loss: 0.0827 - val_accuracy: 0.6500\n",
      "Epoch 77/200\n",
      "12/12 [==============================] - 1s 43ms/step - loss: 0.0281 - accuracy: 0.9073 - val_loss: 0.0924 - val_accuracy: 0.6556\n",
      "Epoch 78/200\n",
      "12/12 [==============================] - 1s 44ms/step - loss: 0.0278 - accuracy: 0.9074 - val_loss: 0.0923 - val_accuracy: 0.6444\n",
      "Epoch 79/200\n",
      "12/12 [==============================] - 1s 43ms/step - loss: 0.0248 - accuracy: 0.9201 - val_loss: 0.0787 - val_accuracy: 0.6778\n",
      "Epoch 80/200\n",
      "12/12 [==============================] - 1s 43ms/step - loss: 0.0202 - accuracy: 0.9419 - val_loss: 0.0792 - val_accuracy: 0.6778\n",
      "Epoch 81/200\n",
      "12/12 [==============================] - 1s 44ms/step - loss: 0.0204 - accuracy: 0.9385 - val_loss: 0.0850 - val_accuracy: 0.6889\n",
      "Epoch 82/200\n",
      "12/12 [==============================] - 1s 44ms/step - loss: 0.0177 - accuracy: 0.9553 - val_loss: 0.0852 - val_accuracy: 0.6722\n",
      "Epoch 83/200\n",
      "12/12 [==============================] - 1s 43ms/step - loss: 0.0192 - accuracy: 0.9435 - val_loss: 0.0829 - val_accuracy: 0.6667\n",
      "Epoch 84/200\n",
      "12/12 [==============================] - 1s 44ms/step - loss: 0.0176 - accuracy: 0.9501 - val_loss: 0.0823 - val_accuracy: 0.6556\n",
      "Epoch 85/200\n",
      "12/12 [==============================] - 1s 43ms/step - loss: 0.0203 - accuracy: 0.9442 - val_loss: 0.0877 - val_accuracy: 0.6667\n",
      "Epoch 86/200\n",
      "12/12 [==============================] - 1s 44ms/step - loss: 0.0197 - accuracy: 0.9387 - val_loss: 0.0835 - val_accuracy: 0.6833\n",
      "Epoch 87/200\n",
      "12/12 [==============================] - 1s 44ms/step - loss: 0.0215 - accuracy: 0.9337 - val_loss: 0.0762 - val_accuracy: 0.6944\n",
      "Epoch 88/200\n",
      "12/12 [==============================] - 1s 44ms/step - loss: 0.0198 - accuracy: 0.9397 - val_loss: 0.0865 - val_accuracy: 0.6722\n",
      "Epoch 89/200\n",
      "12/12 [==============================] - 1s 44ms/step - loss: 0.0253 - accuracy: 0.9203 - val_loss: 0.0907 - val_accuracy: 0.6444\n",
      "Epoch 90/200\n",
      "12/12 [==============================] - 1s 44ms/step - loss: 0.0260 - accuracy: 0.9198 - val_loss: 0.0846 - val_accuracy: 0.6833\n",
      "Epoch 91/200\n",
      "12/12 [==============================] - 1s 44ms/step - loss: 0.0173 - accuracy: 0.9488 - val_loss: 0.0837 - val_accuracy: 0.6944\n",
      "Epoch 92/200\n",
      "12/12 [==============================] - 1s 45ms/step - loss: 0.0175 - accuracy: 0.9524 - val_loss: 0.0856 - val_accuracy: 0.6278\n",
      "Epoch 93/200\n",
      "12/12 [==============================] - 1s 44ms/step - loss: 0.0173 - accuracy: 0.9516 - val_loss: 0.0976 - val_accuracy: 0.6222\n",
      "Epoch 94/200\n",
      "12/12 [==============================] - 1s 44ms/step - loss: 0.0142 - accuracy: 0.9725 - val_loss: 0.0922 - val_accuracy: 0.6500\n",
      "Epoch 95/200\n",
      "12/12 [==============================] - 1s 45ms/step - loss: 0.0165 - accuracy: 0.9527 - val_loss: 0.0930 - val_accuracy: 0.6333\n",
      "Epoch 96/200\n",
      "12/12 [==============================] - 1s 44ms/step - loss: 0.0154 - accuracy: 0.9603 - val_loss: 0.0900 - val_accuracy: 0.6556\n",
      "Epoch 97/200\n",
      "12/12 [==============================] - 1s 43ms/step - loss: 0.0140 - accuracy: 0.9646 - val_loss: 0.0786 - val_accuracy: 0.7167\n",
      "Epoch 98/200\n",
      "12/12 [==============================] - 1s 44ms/step - loss: 0.0158 - accuracy: 0.9541 - val_loss: 0.0791 - val_accuracy: 0.6889\n",
      "Epoch 99/200\n",
      "12/12 [==============================] - 1s 44ms/step - loss: 0.0123 - accuracy: 0.9697 - val_loss: 0.0807 - val_accuracy: 0.6778\n",
      "Epoch 100/200\n",
      "12/12 [==============================] - 1s 44ms/step - loss: 0.0119 - accuracy: 0.9699 - val_loss: 0.0769 - val_accuracy: 0.7222\n",
      "Epoch 101/200\n",
      "12/12 [==============================] - 1s 43ms/step - loss: 0.0096 - accuracy: 0.9818 - val_loss: 0.0678 - val_accuracy: 0.7389\n",
      "Epoch 102/200\n",
      "12/12 [==============================] - 1s 44ms/step - loss: 0.0101 - accuracy: 0.9816 - val_loss: 0.0744 - val_accuracy: 0.6889\n",
      "Epoch 103/200\n",
      "12/12 [==============================] - 1s 45ms/step - loss: 0.0086 - accuracy: 0.9809 - val_loss: 0.0828 - val_accuracy: 0.6722\n",
      "Epoch 104/200\n",
      "12/12 [==============================] - 1s 44ms/step - loss: 0.0093 - accuracy: 0.9854 - val_loss: 0.0869 - val_accuracy: 0.6611\n",
      "Epoch 105/200\n",
      "12/12 [==============================] - 1s 44ms/step - loss: 0.0075 - accuracy: 0.9904 - val_loss: 0.0820 - val_accuracy: 0.7056\n",
      "Epoch 106/200\n",
      "12/12 [==============================] - 1s 43ms/step - loss: 0.0061 - accuracy: 0.9916 - val_loss: 0.0762 - val_accuracy: 0.7000\n",
      "Epoch 107/200\n",
      "12/12 [==============================] - 1s 44ms/step - loss: 0.0078 - accuracy: 0.9862 - val_loss: 0.0814 - val_accuracy: 0.6722\n",
      "Epoch 108/200\n",
      "12/12 [==============================] - 1s 44ms/step - loss: 0.0076 - accuracy: 0.9865 - val_loss: 0.0827 - val_accuracy: 0.6778\n",
      "Epoch 109/200\n",
      "12/12 [==============================] - 1s 44ms/step - loss: 0.0072 - accuracy: 0.9890 - val_loss: 0.0785 - val_accuracy: 0.7111\n",
      "Epoch 110/200\n",
      "12/12 [==============================] - 1s 44ms/step - loss: 0.0074 - accuracy: 0.9820 - val_loss: 0.0877 - val_accuracy: 0.6667\n",
      "Epoch 111/200\n",
      "12/12 [==============================] - 1s 43ms/step - loss: 0.0090 - accuracy: 0.9802 - val_loss: 0.0801 - val_accuracy: 0.6722\n",
      "Epoch 112/200\n",
      "12/12 [==============================] - 1s 44ms/step - loss: 0.0089 - accuracy: 0.9781 - val_loss: 0.0865 - val_accuracy: 0.6389\n",
      "Epoch 113/200\n",
      "12/12 [==============================] - 1s 44ms/step - loss: 0.0099 - accuracy: 0.9772 - val_loss: 0.0790 - val_accuracy: 0.6889\n",
      "Epoch 114/200\n",
      "12/12 [==============================] - 1s 43ms/step - loss: 0.0089 - accuracy: 0.9791 - val_loss: 0.0849 - val_accuracy: 0.6778\n",
      "Epoch 115/200\n",
      "12/12 [==============================] - 1s 44ms/step - loss: 0.0085 - accuracy: 0.9800 - val_loss: 0.0743 - val_accuracy: 0.7111\n",
      "Epoch 116/200\n",
      "12/12 [==============================] - 1s 43ms/step - loss: 0.0063 - accuracy: 0.9890 - val_loss: 0.0911 - val_accuracy: 0.6444\n",
      "Epoch 117/200\n",
      "12/12 [==============================] - 1s 44ms/step - loss: 0.0074 - accuracy: 0.9843 - val_loss: 0.0963 - val_accuracy: 0.6444\n",
      "Epoch 118/200\n",
      "12/12 [==============================] - 1s 44ms/step - loss: 0.0110 - accuracy: 0.9717 - val_loss: 0.0864 - val_accuracy: 0.6611\n",
      "Epoch 119/200\n",
      "12/12 [==============================] - 1s 44ms/step - loss: 0.0094 - accuracy: 0.9777 - val_loss: 0.0856 - val_accuracy: 0.6500\n",
      "Epoch 120/200\n",
      "12/12 [==============================] - 1s 43ms/step - loss: 0.0107 - accuracy: 0.9744 - val_loss: 0.0845 - val_accuracy: 0.6833\n",
      "Epoch 121/200\n",
      "12/12 [==============================] - 1s 43ms/step - loss: 0.0107 - accuracy: 0.9744 - val_loss: 0.0822 - val_accuracy: 0.6944\n",
      "Epoch 122/200\n",
      "12/12 [==============================] - 1s 43ms/step - loss: 0.0122 - accuracy: 0.9659 - val_loss: 0.0874 - val_accuracy: 0.6556\n",
      "Epoch 123/200\n",
      "12/12 [==============================] - 1s 43ms/step - loss: 0.0175 - accuracy: 0.9502 - val_loss: 0.0893 - val_accuracy: 0.6556\n",
      "Epoch 124/200\n",
      "12/12 [==============================] - 1s 43ms/step - loss: 0.0124 - accuracy: 0.9707 - val_loss: 0.0799 - val_accuracy: 0.6944\n",
      "Epoch 125/200\n",
      "12/12 [==============================] - 1s 43ms/step - loss: 0.0132 - accuracy: 0.9629 - val_loss: 0.0875 - val_accuracy: 0.6611\n",
      "Epoch 126/200\n",
      "12/12 [==============================] - 1s 43ms/step - loss: 0.0149 - accuracy: 0.9605 - val_loss: 0.0901 - val_accuracy: 0.6889\n",
      "Epoch 127/200\n",
      "12/12 [==============================] - 1s 45ms/step - loss: 0.0119 - accuracy: 0.9719 - val_loss: 0.0922 - val_accuracy: 0.6556\n",
      "Epoch 128/200\n",
      "12/12 [==============================] - 1s 44ms/step - loss: 0.0138 - accuracy: 0.9642 - val_loss: 0.0850 - val_accuracy: 0.6889\n",
      "Epoch 129/200\n",
      "12/12 [==============================] - 1s 43ms/step - loss: 0.0115 - accuracy: 0.9699 - val_loss: 0.0902 - val_accuracy: 0.6833\n",
      "Epoch 130/200\n",
      "12/12 [==============================] - 1s 43ms/step - loss: 0.0111 - accuracy: 0.9712 - val_loss: 0.0926 - val_accuracy: 0.6500\n",
      "Epoch 131/200\n",
      "12/12 [==============================] - 1s 43ms/step - loss: 0.0084 - accuracy: 0.9859 - val_loss: 0.0867 - val_accuracy: 0.6833\n",
      "Epoch 132/200\n",
      "12/12 [==============================] - 1s 44ms/step - loss: 0.0087 - accuracy: 0.9781 - val_loss: 0.0918 - val_accuracy: 0.6722\n",
      "Epoch 133/200\n",
      "12/12 [==============================] - 1s 44ms/step - loss: 0.0062 - accuracy: 0.9880 - val_loss: 0.0898 - val_accuracy: 0.6833\n",
      "Epoch 134/200\n",
      "12/12 [==============================] - 1s 43ms/step - loss: 0.0051 - accuracy: 0.9917 - val_loss: 0.1006 - val_accuracy: 0.6333\n",
      "Epoch 135/200\n",
      "12/12 [==============================] - 1s 43ms/step - loss: 0.0069 - accuracy: 0.9854 - val_loss: 0.0923 - val_accuracy: 0.6333\n",
      "Epoch 136/200\n",
      "12/12 [==============================] - 1s 43ms/step - loss: 0.0070 - accuracy: 0.9867 - val_loss: 0.1021 - val_accuracy: 0.6167\n",
      "Epoch 137/200\n",
      "12/12 [==============================] - 1s 43ms/step - loss: 0.0097 - accuracy: 0.9754 - val_loss: 0.0807 - val_accuracy: 0.7167\n",
      "Epoch 138/200\n",
      "12/12 [==============================] - 1s 43ms/step - loss: 0.0080 - accuracy: 0.9845 - val_loss: 0.0880 - val_accuracy: 0.6778\n",
      "Epoch 139/200\n",
      "12/12 [==============================] - 1s 43ms/step - loss: 0.0076 - accuracy: 0.9856 - val_loss: 0.0867 - val_accuracy: 0.6944\n",
      "Epoch 140/200\n",
      "12/12 [==============================] - 1s 43ms/step - loss: 0.0082 - accuracy: 0.9822 - val_loss: 0.0849 - val_accuracy: 0.6667\n",
      "Epoch 141/200\n",
      "12/12 [==============================] - 1s 43ms/step - loss: 0.0094 - accuracy: 0.9784 - val_loss: 0.0715 - val_accuracy: 0.7444\n",
      "Epoch 142/200\n",
      "12/12 [==============================] - 1s 43ms/step - loss: 0.0100 - accuracy: 0.9765 - val_loss: 0.0829 - val_accuracy: 0.6778\n",
      "Epoch 143/200\n",
      "12/12 [==============================] - 1s 44ms/step - loss: 0.0086 - accuracy: 0.9799 - val_loss: 0.0912 - val_accuracy: 0.6556\n",
      "Epoch 144/200\n",
      "12/12 [==============================] - 1s 43ms/step - loss: 0.0064 - accuracy: 0.9868 - val_loss: 0.0820 - val_accuracy: 0.6778\n",
      "Epoch 145/200\n",
      "12/12 [==============================] - 1s 44ms/step - loss: 0.0076 - accuracy: 0.9846 - val_loss: 0.0948 - val_accuracy: 0.6333\n",
      "Epoch 146/200\n",
      "12/12 [==============================] - 1s 43ms/step - loss: 0.0124 - accuracy: 0.9672 - val_loss: 0.0828 - val_accuracy: 0.6667\n",
      "Epoch 147/200\n",
      "12/12 [==============================] - 1s 43ms/step - loss: 0.0111 - accuracy: 0.9736 - val_loss: 0.0868 - val_accuracy: 0.6778\n",
      "Epoch 148/200\n",
      "12/12 [==============================] - 1s 43ms/step - loss: 0.0111 - accuracy: 0.9657 - val_loss: 0.0853 - val_accuracy: 0.6722\n",
      "Epoch 149/200\n",
      "12/12 [==============================] - 1s 43ms/step - loss: 0.0090 - accuracy: 0.9783 - val_loss: 0.0884 - val_accuracy: 0.6722\n",
      "Epoch 150/200\n",
      "12/12 [==============================] - 1s 44ms/step - loss: 0.0075 - accuracy: 0.9843 - val_loss: 0.0875 - val_accuracy: 0.6611\n",
      "Epoch 151/200\n",
      "12/12 [==============================] - 1s 43ms/step - loss: 0.0062 - accuracy: 0.9891 - val_loss: 0.0887 - val_accuracy: 0.6611\n",
      "Epoch 152/200\n",
      "12/12 [==============================] - 1s 44ms/step - loss: 0.0066 - accuracy: 0.9864 - val_loss: 0.0827 - val_accuracy: 0.6722\n",
      "Epoch 153/200\n",
      "12/12 [==============================] - 1s 43ms/step - loss: 0.0062 - accuracy: 0.9866 - val_loss: 0.0888 - val_accuracy: 0.6667\n",
      "Epoch 154/200\n",
      "12/12 [==============================] - 1s 43ms/step - loss: 0.0079 - accuracy: 0.9848 - val_loss: 0.0909 - val_accuracy: 0.6722\n",
      "Epoch 155/200\n",
      "12/12 [==============================] - 1s 43ms/step - loss: 0.0130 - accuracy: 0.9620 - val_loss: 0.0857 - val_accuracy: 0.6667\n",
      "Epoch 156/200\n",
      "12/12 [==============================] - 1s 44ms/step - loss: 0.0084 - accuracy: 0.9834 - val_loss: 0.0917 - val_accuracy: 0.6722\n",
      "Epoch 157/200\n",
      "12/12 [==============================] - 1s 43ms/step - loss: 0.0086 - accuracy: 0.9798 - val_loss: 0.0919 - val_accuracy: 0.6500\n",
      "Epoch 158/200\n",
      "12/12 [==============================] - 1s 43ms/step - loss: 0.0125 - accuracy: 0.9634 - val_loss: 0.0848 - val_accuracy: 0.6833\n",
      "Epoch 159/200\n",
      "12/12 [==============================] - 1s 43ms/step - loss: 0.0120 - accuracy: 0.9683 - val_loss: 0.0880 - val_accuracy: 0.6611\n",
      "Epoch 160/200\n",
      "12/12 [==============================] - 1s 43ms/step - loss: 0.0103 - accuracy: 0.9739 - val_loss: 0.0842 - val_accuracy: 0.7000\n",
      "Epoch 161/200\n",
      "12/12 [==============================] - 1s 43ms/step - loss: 0.0078 - accuracy: 0.9832 - val_loss: 0.0751 - val_accuracy: 0.7111\n",
      "Epoch 162/200\n",
      "12/12 [==============================] - 1s 43ms/step - loss: 0.0134 - accuracy: 0.9605 - val_loss: 0.0842 - val_accuracy: 0.6556\n",
      "Epoch 163/200\n",
      "12/12 [==============================] - 1s 43ms/step - loss: 0.0193 - accuracy: 0.9315 - val_loss: 0.0882 - val_accuracy: 0.6778\n",
      "Epoch 164/200\n",
      "12/12 [==============================] - 1s 43ms/step - loss: 0.0122 - accuracy: 0.9712 - val_loss: 0.0909 - val_accuracy: 0.6444\n",
      "Epoch 165/200\n",
      "12/12 [==============================] - 1s 43ms/step - loss: 0.0115 - accuracy: 0.9703 - val_loss: 0.0930 - val_accuracy: 0.6722\n",
      "Epoch 166/200\n",
      "12/12 [==============================] - 1s 43ms/step - loss: 0.0095 - accuracy: 0.9774 - val_loss: 0.0823 - val_accuracy: 0.6778\n",
      "Epoch 167/200\n",
      "12/12 [==============================] - 1s 43ms/step - loss: 0.0082 - accuracy: 0.9812 - val_loss: 0.0881 - val_accuracy: 0.6778\n",
      "Epoch 168/200\n",
      "12/12 [==============================] - 0s 42ms/step - loss: 0.0089 - accuracy: 0.9751 - val_loss: 0.0877 - val_accuracy: 0.6944\n",
      "Epoch 169/200\n",
      "12/12 [==============================] - 1s 43ms/step - loss: 0.0144 - accuracy: 0.9582 - val_loss: 0.0943 - val_accuracy: 0.6611\n",
      "Epoch 170/200\n",
      "12/12 [==============================] - 1s 43ms/step - loss: 0.0091 - accuracy: 0.9820 - val_loss: 0.0949 - val_accuracy: 0.6333\n",
      "Epoch 171/200\n",
      "12/12 [==============================] - 1s 44ms/step - loss: 0.0073 - accuracy: 0.9827 - val_loss: 0.0909 - val_accuracy: 0.6611\n",
      "Epoch 172/200\n",
      "12/12 [==============================] - 1s 44ms/step - loss: 0.0065 - accuracy: 0.9879 - val_loss: 0.0767 - val_accuracy: 0.7056\n",
      "Epoch 173/200\n",
      "12/12 [==============================] - 1s 42ms/step - loss: 0.0054 - accuracy: 0.9915 - val_loss: 0.0842 - val_accuracy: 0.6833\n",
      "Epoch 174/200\n",
      "12/12 [==============================] - 1s 43ms/step - loss: 0.0052 - accuracy: 0.9953 - val_loss: 0.0971 - val_accuracy: 0.6333\n",
      "Epoch 175/200\n",
      "12/12 [==============================] - 1s 43ms/step - loss: 0.0046 - accuracy: 0.9961 - val_loss: 0.0846 - val_accuracy: 0.7000\n",
      "Epoch 176/200\n",
      "12/12 [==============================] - 0s 42ms/step - loss: 0.0045 - accuracy: 0.9949 - val_loss: 0.0923 - val_accuracy: 0.6500\n",
      "Epoch 177/200\n",
      "12/12 [==============================] - 1s 43ms/step - loss: 0.0047 - accuracy: 0.9929 - val_loss: 0.0844 - val_accuracy: 0.6778\n",
      "Epoch 178/200\n",
      "12/12 [==============================] - 1s 43ms/step - loss: 0.0069 - accuracy: 0.9869 - val_loss: 0.0883 - val_accuracy: 0.6667\n",
      "Epoch 179/200\n",
      "12/12 [==============================] - 1s 43ms/step - loss: 0.0049 - accuracy: 0.9904 - val_loss: 0.0833 - val_accuracy: 0.7000\n",
      "Epoch 180/200\n",
      "12/12 [==============================] - 1s 43ms/step - loss: 0.0063 - accuracy: 0.9858 - val_loss: 0.0854 - val_accuracy: 0.6833\n",
      "Epoch 181/200\n",
      "12/12 [==============================] - 1s 43ms/step - loss: 0.0060 - accuracy: 0.9894 - val_loss: 0.0880 - val_accuracy: 0.6722\n",
      "Epoch 182/200\n",
      "12/12 [==============================] - 0s 42ms/step - loss: 0.0045 - accuracy: 0.9936 - val_loss: 0.0909 - val_accuracy: 0.6778\n",
      "Epoch 183/200\n",
      "12/12 [==============================] - 1s 44ms/step - loss: 0.0048 - accuracy: 0.9914 - val_loss: 0.0853 - val_accuracy: 0.7000\n",
      "Epoch 184/200\n",
      "12/12 [==============================] - 0s 42ms/step - loss: 0.0040 - accuracy: 0.9962 - val_loss: 0.0909 - val_accuracy: 0.6667\n",
      "Epoch 185/200\n",
      "12/12 [==============================] - 1s 43ms/step - loss: 0.0050 - accuracy: 0.9907 - val_loss: 0.0877 - val_accuracy: 0.6944\n",
      "Epoch 186/200\n",
      "12/12 [==============================] - 1s 43ms/step - loss: 0.0047 - accuracy: 0.9910 - val_loss: 0.0892 - val_accuracy: 0.6778\n",
      "Epoch 187/200\n",
      "12/12 [==============================] - 1s 42ms/step - loss: 0.0034 - accuracy: 0.9970 - val_loss: 0.0848 - val_accuracy: 0.6833\n",
      "Epoch 188/200\n",
      "12/12 [==============================] - 1s 44ms/step - loss: 0.0028 - accuracy: 0.9999 - val_loss: 0.0848 - val_accuracy: 0.6889\n",
      "Epoch 189/200\n",
      "12/12 [==============================] - 1s 43ms/step - loss: 0.0054 - accuracy: 0.9893 - val_loss: 0.0953 - val_accuracy: 0.6389\n",
      "Epoch 190/200\n",
      "12/12 [==============================] - 1s 43ms/step - loss: 0.0080 - accuracy: 0.9792 - val_loss: 0.0950 - val_accuracy: 0.6500\n",
      "Epoch 191/200\n",
      "12/12 [==============================] - 1s 43ms/step - loss: 0.0057 - accuracy: 0.9904 - val_loss: 0.0888 - val_accuracy: 0.6667\n",
      "Epoch 192/200\n",
      "12/12 [==============================] - 1s 43ms/step - loss: 0.0064 - accuracy: 0.9886 - val_loss: 0.0831 - val_accuracy: 0.6611\n",
      "Epoch 193/200\n",
      "12/12 [==============================] - 1s 43ms/step - loss: 0.0064 - accuracy: 0.9852 - val_loss: 0.0980 - val_accuracy: 0.6222\n",
      "Epoch 194/200\n",
      "12/12 [==============================] - 1s 44ms/step - loss: 0.0083 - accuracy: 0.9798 - val_loss: 0.0855 - val_accuracy: 0.6667\n",
      "Epoch 195/200\n",
      "12/12 [==============================] - 1s 43ms/step - loss: 0.0049 - accuracy: 0.9886 - val_loss: 0.0871 - val_accuracy: 0.6778\n",
      "Epoch 196/200\n",
      "12/12 [==============================] - 1s 43ms/step - loss: 0.0055 - accuracy: 0.9876 - val_loss: 0.0949 - val_accuracy: 0.6556\n",
      "Epoch 197/200\n",
      "12/12 [==============================] - 1s 45ms/step - loss: 0.0059 - accuracy: 0.9869 - val_loss: 0.0853 - val_accuracy: 0.6778\n",
      "Epoch 198/200\n",
      "12/12 [==============================] - 1s 43ms/step - loss: 0.0044 - accuracy: 0.9929 - val_loss: 0.0793 - val_accuracy: 0.7111\n",
      "Epoch 199/200\n",
      "12/12 [==============================] - 1s 43ms/step - loss: 0.0031 - accuracy: 0.9982 - val_loss: 0.0914 - val_accuracy: 0.6667\n",
      "Epoch 200/200\n",
      "12/12 [==============================] - 1s 43ms/step - loss: 0.0064 - accuracy: 0.9842 - val_loss: 0.0883 - val_accuracy: 0.6778\n"
     ]
    }
   ],
   "source": [
    "# Initialising the RNN\n",
    "model = Sequential()\n",
    "dropout=0.3\n",
    "lstm_unit=200\n",
    "model.add(LSTM(units = lstm_unit, return_sequences = True, input_shape = (64,64)))\n",
    "model.add(Dropout(dropout))\n",
    "\n",
    "# Adding a second LSTM layer and Dropout layer\n",
    "model.add(LSTM(units = lstm_unit, return_sequences = True))\n",
    "# model.add(Dropout(dropout))\n",
    "\n",
    "# Adding a third LSTM layer and Dropout layer\n",
    "model.add(LSTM(units = lstm_unit, return_sequences = True))\n",
    "model.add(Dropout(dropout))\n",
    "\n",
    "# # Adding a fourth LSTM layer and Dropout layer\n",
    "# model.add(LSTM(units = lstm_unit, return_sequences = True))\n",
    "# model.add(Dropout(dropout))\n",
    "\n",
    "# Adding a fourth LSTM layer and Dropout layer\n",
    "# model.add(LSTM(units = lstm_unit, return_sequences = True))\n",
    "# model.add(Dropout(dropout))\n",
    "\n",
    "# Adding a fifth LSTM layer and Dropout layer\n",
    "model.add(LSTM(units = lstm_unit))\n",
    "# model.add(Dropout(dropout))\n",
    "\n",
    "# Adding a sixth LSTM layer and and Dropout layer\n",
    "# model.add(LSTM(units = 50))\n",
    "# model.add(Dropout(dropout))\n",
    "\n",
    "# Adding a fifth LSTM layer and and Dropout layer\n",
    "# model.add(LSTM(units = 50))\n",
    "# model.add(Dropout(0.2))\n",
    "\n",
    "\n",
    "\n",
    "#MY\n",
    "model.add(Dense(1024,activation=('relu'),input_dim=64))\n",
    "model.add(Dropout(.2))\n",
    "\n",
    "model.add(Dense(512,activation=('relu'))) \n",
    "model.add(Dropout(.2))\n",
    "\n",
    "Dense(256,activation=('relu'))\n",
    "model.add(Dropout(.2))\n",
    "#MY\n",
    "\n",
    "# Adding the output layer\n",
    "# For Full connection layer we use dense\n",
    "# As the output is 1D so we use unit=1\n",
    "model.add(Dense(units = 6))\n",
    "\n",
    "learn_rate=.001\n",
    "sgd=SGD(lr=learn_rate,momentum=.9,nesterov=False)\n",
    "adam=Adam(lr=learn_rate, )#beta_1=0.9, beta_2=0.999, epsilon=None, decay=0.0, amsgrad=False\n",
    "model.compile(optimizer=adam,loss='mean_squared_error',metrics=['accuracy'])#mean_squared_error mean_squared_logarithmic_error  mean_absolute_error\n",
    "\n",
    "\n",
    "history=model.fit(X_train_R, Y_train_R, batch_size=128, epochs=200, validation_data=(X_validation_R, Y_validation_R))"
   ]
  },
  {
   "cell_type": "markdown",
   "metadata": {},
   "source": [
    "# Testing Accuracy"
   ]
  },
  {
   "cell_type": "code",
   "execution_count": 123,
   "metadata": {
    "colab": {
     "base_uri": "https://localhost:8080/"
    },
    "id": "KAJl8qTPfeE7",
    "outputId": "7ab4422f-d259-4915-baa4-883e21a367ad"
   },
   "outputs": [
    {
     "name": "stdout",
     "output_type": "stream",
     "text": [
      "6/6 [==============================] - 0s 7ms/step - loss: 0.0811 - accuracy: 0.7234\n",
      "72.34042286872864\n"
     ]
    }
   ],
   "source": [
    "loss, accuracy = model.evaluate(X_test_R, Y_test_R)\n",
    "print(accuracy*100)"
   ]
  },
  {
   "cell_type": "markdown",
   "metadata": {},
   "source": [
    "# Plotting Graphs"
   ]
  },
  {
   "cell_type": "code",
   "execution_count": 119,
   "metadata": {
    "colab": {
     "base_uri": "https://localhost:8080/",
     "height": 590
    },
    "id": "-x_GM3EzkBJg",
    "outputId": "a882f2a3-9d14-4d70-b377-f5058fd9d5f6"
   },
   "outputs": [
    {
     "name": "stdout",
     "output_type": "stream",
     "text": [
      "dict_keys(['loss', 'accuracy', 'val_loss', 'val_accuracy'])\n"
     ]
    },
    {
     "data": {
      "image/png": "[encoded data removed]",
      "text/plain": [
       "<Figure size 432x288 with 1 Axes>"
      ]
     },
     "metadata": {
      "needs_background": "light",
      "tags": []
     },
     "output_type": "display_data"
    },
    {
     "data": {
      "image/png": "[encoded data removed]",
      "text/plain": [
       "<Figure size 432x288 with 1 Axes>"
      ]
     },
     "metadata": {
      "needs_background": "light",
      "tags": []
     },
     "output_type": "display_data"
    }
   ],
   "source": [
    "print(history.history.keys())\n",
    "#  \"Accuracy\"\n",
    "plt.plot(history.history['accuracy'])\n",
    "plt.plot(history.history['val_accuracy'])\n",
    "plt.title('model accuracy')\n",
    "plt.ylabel('accuracy')\n",
    "plt.xlabel('epoch')\n",
    "plt.legend(['train', 'validation'], loc='upper left')\n",
    "plt.show()\n",
    "# \"Loss\"\n",
    "plt.plot(history.history['loss'])\n",
    "plt.plot(history.history['val_loss'])\n",
    "plt.title('model loss')\n",
    "plt.ylabel('loss')\n",
    "plt.xlabel('epoch')\n",
    "plt.legend(['train', 'validation'], loc='upper left')\n",
    "plt.show()"
   ]
  },
  {
   "cell_type": "markdown",
   "metadata": {},
   "source": [
    "# Saving Model"
   ]
  },
  {
   "cell_type": "code",
   "execution_count": 124,
   "metadata": {
    "id": "TILTJqhbCIMz"
   },
   "outputs": [],
   "source": [
    "model.save(\"model_LSTM_72.h5\")"
   ]
  },
  {
   "cell_type": "markdown",
   "metadata": {
    "id": "QER6AmmtRxjR"
   },
   "source": [
    "# Load Model"
   ]
  },
  {
   "cell_type": "code",
   "execution_count": 9,
   "metadata": {
    "id": "hj_Ku2VPRzqb"
   },
   "outputs": [],
   "source": [
    "model=load_model(\"/content/model_LSTM_72.h5\")"
   ]
  },
  {
   "cell_type": "markdown",
   "metadata": {},
   "source": [
    "\n",
    "# Classification Report"
   ]
  },
  {
   "cell_type": "code",
   "execution_count": 19,
   "metadata": {
    "colab": {
     "base_uri": "https://localhost:8080/",
     "height": 227
    },
    "id": "llShF9ZFlUGB",
    "outputId": "a27fa236-fb45-441c-eca2-bdf25da6a6ee"
   },
   "outputs": [
    {
     "name": "stderr",
     "output_type": "stream",
     "text": [
      "/usr/local/lib/python3.6/dist-packages/sklearn/metrics/_classification.py:1272: UndefinedMetricWarning: Precision and F-score are ill-defined and being set to 0.0 in samples with no predicted labels. Use `zero_division` parameter to control this behavior.\n",
      "  _warn_prf(average, modifier, msg_start, len(result))\n"
     ]
    },
    {
     "data": {
      "text/html": [
       "<div>\n",
       "<style scoped>\n",
       "    .dataframe tbody tr th:only-of-type {\n",
       "        vertical-align: middle;\n",
       "    }\n",
       "\n",
       "    .dataframe tbody tr th {\n",
       "        vertical-align: top;\n",
       "    }\n",
       "\n",
       "    .dataframe thead th {\n",
       "        text-align: right;\n",
       "    }\n",
       "</style>\n",
       "<table border=\"1\" class=\"dataframe\">\n",
       "  <thead>\n",
       "    <tr style=\"text-align: right;\">\n",
       "      <th></th>\n",
       "      <th>0</th>\n",
       "      <th>1</th>\n",
       "      <th>2</th>\n",
       "      <th>3</th>\n",
       "      <th>4</th>\n",
       "      <th>5</th>\n",
       "      <th>micro avg</th>\n",
       "      <th>macro avg</th>\n",
       "      <th>weighted avg</th>\n",
       "      <th>samples avg</th>\n",
       "    </tr>\n",
       "  </thead>\n",
       "  <tbody>\n",
       "    <tr>\n",
       "      <th>precision</th>\n",
       "      <td>0.659091</td>\n",
       "      <td>0.833333</td>\n",
       "      <td>0.791667</td>\n",
       "      <td>1.000000</td>\n",
       "      <td>0.694444</td>\n",
       "      <td>0.551724</td>\n",
       "      <td>0.737705</td>\n",
       "      <td>0.755043</td>\n",
       "      <td>0.742424</td>\n",
       "      <td>0.718085</td>\n",
       "    </tr>\n",
       "    <tr>\n",
       "      <th>recall</th>\n",
       "      <td>0.743590</td>\n",
       "      <td>0.869565</td>\n",
       "      <td>0.703704</td>\n",
       "      <td>0.896552</td>\n",
       "      <td>0.625000</td>\n",
       "      <td>0.533333</td>\n",
       "      <td>0.718085</td>\n",
       "      <td>0.728624</td>\n",
       "      <td>0.718085</td>\n",
       "      <td>0.718085</td>\n",
       "    </tr>\n",
       "    <tr>\n",
       "      <th>f1-score</th>\n",
       "      <td>0.698795</td>\n",
       "      <td>0.851064</td>\n",
       "      <td>0.745098</td>\n",
       "      <td>0.945455</td>\n",
       "      <td>0.657895</td>\n",
       "      <td>0.542373</td>\n",
       "      <td>0.727763</td>\n",
       "      <td>0.740113</td>\n",
       "      <td>0.728459</td>\n",
       "      <td>0.718085</td>\n",
       "    </tr>\n",
       "    <tr>\n",
       "      <th>support</th>\n",
       "      <td>39.000000</td>\n",
       "      <td>23.000000</td>\n",
       "      <td>27.000000</td>\n",
       "      <td>29.000000</td>\n",
       "      <td>40.000000</td>\n",
       "      <td>30.000000</td>\n",
       "      <td>188.000000</td>\n",
       "      <td>188.000000</td>\n",
       "      <td>188.000000</td>\n",
       "      <td>188.000000</td>\n",
       "    </tr>\n",
       "  </tbody>\n",
       "</table>\n",
       "</div>"
      ],
      "text/plain": [
       "                   0          1  ...  weighted avg  samples avg\n",
       "precision   0.659091   0.833333  ...      0.742424     0.718085\n",
       "recall      0.743590   0.869565  ...      0.718085     0.718085\n",
       "f1-score    0.698795   0.851064  ...      0.728459     0.718085\n",
       "support    39.000000  23.000000  ...    188.000000   188.000000\n",
       "\n",
       "[4 rows x 10 columns]"
      ]
     },
     "metadata": {
      "tags": []
     },
     "output_type": "display_data"
    }
   ],
   "source": [
    "\n",
    "Y_pred=model.predict(X_test_R)\n",
    "Y_pred = (Y_pred > 0.5) \n",
    "report=metrics.classification_report(Y_test_R, Y_pred,output_dict=True) \n",
    "df = pd.DataFrame(report)\n",
    "display(df)"
   ]
  },
  {
   "cell_type": "markdown",
   "metadata": {
    "id": "qDwX0TGGmhio"
   },
   "source": [
    "# confusion_matrix"
   ]
  },
  {
   "cell_type": "code",
   "execution_count": 25,
   "metadata": {
    "colab": {
     "base_uri": "https://localhost:8080/",
     "height": 290
    },
    "id": "-sTQ2cCTmkIk",
    "outputId": "c9f431f1-255b-48c6-fa98-76f737ae4c2d"
   },
   "outputs": [
    {
     "data": {
      "image/png": "[encoded data removed]",
      "text/plain": [
       "<Figure size 432x288 with 2 Axes>"
      ]
     },
     "metadata": {
      "tags": []
     },
     "output_type": "display_data"
    }
   ],
   "source": [
    "lstm_cf=confusion_matrix(Y_test_R.argmax(axis=1), Y_pred.argmax(axis=1))\n",
    "sns.set(font_scale=1.4) # for label size\n",
    "sns.heatmap(lstm_cf, annot=True, annot_kws={\"size\": 20}) # font size\n",
    "plt.plot()\n",
    "plt.title('CONFUSION MATRIX- LSTM  ',fontdict={'fontsize': 14, 'fontweight': 'bold'})\n",
    "plt.show(block=False)"
   ]
  },
  {
   "cell_type": "code",
   "execution_count": null,
   "metadata": {
    "id": "fcGqevBlmkef"
   },
   "outputs": [],
   "source": [
    "# ***************************************---------*****************************************"
   ]
  }
 ],
 "metadata": {
  "accelerator": "GPU",
  "colab": {
   "collapsed_sections": [],
   "name": "LSTM.ipynb",
   "provenance": []
  },
  "kernelspec": {
   "display_name": "Python 3",
   "language": "python",
   "name": "python3"
  },
  "language_info": {
   "codemirror_mode": {
    "name": "ipython",
    "version": 3
   },
   "file_extension": ".py",
   "mimetype": "text/x-python",
   "name": "python",
   "nbconvert_exporter": "python",
   "pygments_lexer": "ipython3",
   "version": "3.6.12"
  }
 },
 "nbformat": 4,
 "nbformat_minor": 1
}
